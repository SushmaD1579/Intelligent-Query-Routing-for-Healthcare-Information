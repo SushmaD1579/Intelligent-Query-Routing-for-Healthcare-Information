{
 "cells": [
  {
   "cell_type": "code",
   "execution_count": null,
   "metadata": {},
   "outputs": [],
   "source": [
    "pip install tavily-python\n"
   ]
  },
  {
   "cell_type": "code",
   "execution_count": null,
   "metadata": {},
   "outputs": [],
   "source": [
    "from tavily import TavilyClient\n",
    "\n",
    "# Initialize the client\n",
    "tavily = TavilyClient(api_key=\"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\")\n",
    "\n",
    "# Perform a search\n",
    "response = tavily.search(query=\"What is the current temperature in Denver CO\", search_depth=\"advanced\", max_results=3)\n",
    "\n",
    "#print(response)\n",
    "\n",
    "# Print each result with title, URL, and content (snippet)\n",
    "for i, result in enumerate(response.get('results', [])):  # Safe access with .get()\n",
    "    title = result.get(\"title\", \"No title available\")\n",
    "    url = result.get(\"url\", \"No URL available\")\n",
    "    content = result.get(\"content\", \"No content available\")  # Use 'content' instead of 'snippet'\n",
    "\n",
    "    print(f\"{i+1}. {title}\\n   URL: {url}\\n   Content: {content}\\n\")"
   ]
  },
  {
   "cell_type": "code",
   "execution_count": null,
   "metadata": {},
   "outputs": [],
   "source": [
    "print(type(response))"
   ]
  },
  {
   "cell_type": "code",
   "execution_count": null,
   "metadata": {},
   "outputs": [],
   "source": [
    "print(response.keys())"
   ]
  },
  {
   "cell_type": "code",
   "execution_count": null,
   "metadata": {},
   "outputs": [],
   "source": [
    "record = response.get('results', [])[0]  # Default to empty list if 'results' key is missing\n",
    "print(record)\n",
    "# Print the specific record in a formatted JSON style\n",
    "#print(json.dumps(record, indent=4))"
   ]
  },
  {
   "cell_type": "code",
   "execution_count": null,
   "metadata": {},
   "outputs": [],
   "source": [
    "print(type(record))"
   ]
  },
  {
   "cell_type": "code",
   "execution_count": null,
   "metadata": {},
   "outputs": [],
   "source": [
    "print(record.keys())"
   ]
  },
  {
   "cell_type": "code",
   "execution_count": null,
   "metadata": {},
   "outputs": [],
   "source": [
    "import os\n",
    "from langchain.tools import TavilySearchResults\n",
    "\n",
    "# Set the API key as an environment variable (if not already set)\n",
    "os.environ[\"TAVILY_API_KEY\"] = \"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\"\n",
    "\n",
    "# Initialize TavilySearchResults (API key will be fetched from environment)\n",
    "tavily = TavilySearchResults()\n",
    "\n",
    "# Test the search functionality\n",
    "query = \"What is the weather in Denver CO Today?\"\n",
    "# Run the search query\n",
    "run_results = tavily.run(\n",
    "    tool_input=query,\n",
    "    max_results=3,\n",
    "    search_depth=\"advanced\",\n",
    ")\n",
    "\n",
    "\n",
    "# Print the results\n",
    "print(run_results)"
   ]
  },
  {
   "cell_type": "code",
   "execution_count": null,
   "metadata": {},
   "outputs": [],
   "source": [
    "print(type(run_results))"
   ]
  },
  {
   "cell_type": "code",
   "execution_count": null,
   "metadata": {},
   "outputs": [],
   "source": [
    "print(len(run_results))"
   ]
  },
  {
   "cell_type": "code",
   "execution_count": null,
   "metadata": {},
   "outputs": [],
   "source": [
    "print(run_results[0])"
   ]
  },
  {
   "cell_type": "code",
   "execution_count": null,
   "metadata": {},
   "outputs": [],
   "source": [
    "from langchain.prompts import PromptTemplate\n",
    "from langchain.chat_models import ChatOpenAI\n",
    "from langchain.chains import LLMChain\n",
    "from langchain.tools import WebSearchResults\n",
    "\n",
    "# Step 1: Define WebSearch Tool (already configured)\n",
    "tavily_search = WebSearchResults(tavily_search_func=tavily.search)\n",
    "\n",
    "# Step 2: Define the prompt template for the LLM\n",
    "llm_prompt = PromptTemplate(\n",
    "    input_variables=[\"query\", \"web_results\"],\n",
    "    template=\"\"\"\n",
    "    You are a helpful assistant. Based on the following search results, please answer the user's question:\n",
    "    \n",
    "    Question: {query}\n",
    "\n",
    "    Search Results:\n",
    "    {web_results}\n",
    "    \n",
    "    Provide a concise, relevant answer based on the results.\n",
    "    \"\"\"\n",
    ")\n",
    "\n",
    "# Step 3: Initialize the LLM (using OpenAI's GPT-3 for example)\n",
    "llm = ChatOpenAI(model=\"gpt-3.5-turbo\", temperature=0.7)\n",
    "\n",
    "# Step 4: Create the LLM Chain\n",
    "llm_chain = LLMChain(prompt=llm_prompt, llm=llm)\n",
    "\n",
    "# Step 5: Input Query and Call the WebSearch Tool\n",
    "query = \"What is the current temperature in Denver CO\"\n",
    "web_results = tavily_search.search(query=query, search_depth=\"advanced\", max_results=3)\n",
    "\n",
    "# Step 6: Pass the results into the chain to generate the final answer\n",
    "llm_input = {\n",
    "    \"query\": query,\n",
    "    \"web_results\": \"\\n\".join([f\"Source: {result['url']}\\nContent: {result['content']}\" for result in web_results['results'][:3]])\n",
    "}\n",
    "\n",
    "# Step 7: Execute the chain to get the final answer\n",
    "final_answer = llm_chain.run(llm_input)\n",
    "\n",
    "# Step 8: Display the result\n",
    "print(final_answer)\n"
   ]
  },
  {
   "cell_type": "code",
   "execution_count": null,
   "metadata": {},
   "outputs": [],
   "source": [
    "pip install langgraph\n"
   ]
  },
  {
   "cell_type": "code",
   "execution_count": 1,
   "metadata": {},
   "outputs": [
    {
     "name": "stdout",
     "output_type": "stream",
     "text": [
      "Defaulting to user installation because normal site-packages is not writeable\n",
      "Requirement already satisfied: python-dotenv in /Users/sushmad98/Library/Python/3.9/lib/python/site-packages (1.0.1)\n",
      "\u001b[33mWARNING: You are using pip version 21.2.4; however, version 25.0.1 is available.\n",
      "You should consider upgrading via the '/Library/Developer/CommandLineTools/usr/bin/python3 -m pip install --upgrade pip' command.\u001b[0m\n",
      "Note: you may need to restart the kernel to use updated packages.\n"
     ]
    }
   ],
   "source": [
    "pip install python-dotenv"
   ]
  }
 ],
 "metadata": {
  "kernelspec": {
   "display_name": "Python 3",
   "language": "python",
   "name": "python3"
  },
  "language_info": {
   "codemirror_mode": {
    "name": "ipython",
    "version": 3
   },
   "file_extension": ".py",
   "mimetype": "text/x-python",
   "name": "python",
   "nbconvert_exporter": "python",
   "pygments_lexer": "ipython3",
   "version": "3.9.6"
  }
 },
 "nbformat": 4,
 "nbformat_minor": 2
}
